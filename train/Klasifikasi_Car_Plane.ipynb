{
 "cells": [
  {
   "cell_type": "markdown",
   "metadata": {
    "id": "LMUHm6R21PJo"
   },
   "source": [
    "Source: https://machinelearningmastery.com/how-to-develop-a-cnn-from-scratch-for-cifar-10-photo-classification/\n",
    "\n",
    "https://www.geeksforgeeks.org/cifar-10-image-classification-in-tensorflow/?id=discuss\n",
    "\n",
    "https://www.geeksforgeeks.org/python-image-classification-using-keras/"
   ]
  },
  {
   "cell_type": "code",
   "execution_count": 2,
   "metadata": {
    "id": "016R3cnF08IA"
   },
   "outputs": [],
   "source": [
    "# Importing all necessary libraries\n",
    "from keras.preprocessing.image import ImageDataGenerator\n",
    "from keras.models import Sequential\n",
    "from keras.layers import Conv2D, MaxPooling2D\n",
    "from keras.layers import Activation, Dropout, Flatten, Dense\n",
    "from keras import backend as K\n",
    "  \n",
    "img_width, img_height = 224, 224"
   ]
  },
  {
   "cell_type": "code",
   "execution_count": 2,
   "metadata": {
    "colab": {
     "base_uri": "https://localhost:8080/",
     "height": 52
    },
    "id": "cyJI1OdDhPaq",
    "outputId": "8a588052-a4eb-4e3c-9f65-ba00732329af"
   },
   "outputs": [
    {
     "data": {
      "text/plain": [
       "\"\\nfrom google.colab import drive\\nimport os\\n# Menyambungkan google colab dengan google drive\\ndrive.mount('/content/drive/')\\n\""
      ]
     },
     "execution_count": 2,
     "metadata": {},
     "output_type": "execute_result"
    }
   ],
   "source": [
    "'''\n",
    "from google.colab import drive\n",
    "import os\n",
    "# Menyambungkan google colab dengan google drive\n",
    "drive.mount('/content/drive/')\n",
    "'''"
   ]
  },
  {
   "cell_type": "code",
   "execution_count": 3,
   "metadata": {
    "colab": {
     "base_uri": "https://localhost:8080/",
     "height": 35
    },
    "id": "yImr_YLUhSg5",
    "outputId": "0f74f2ce-a804-43f1-dadf-7ec5ede5c0e7"
   },
   "outputs": [
    {
     "data": {
      "text/plain": [
       "\"\\nbase_dir = '/content/drive/My Drive/Chess'\\n!ls '/content/drive/My Drive/Chess'\\n\""
      ]
     },
     "execution_count": 3,
     "metadata": {},
     "output_type": "execute_result"
    }
   ],
   "source": [
    "'''\n",
    "base_dir = '/content/drive/My Drive/Chess'\n",
    "!ls '/content/drive/My Drive/Chess'\n",
    "'''"
   ]
  },
  {
   "cell_type": "code",
   "execution_count": 4,
   "metadata": {
    "colab": {
     "base_uri": "https://localhost:8080/",
     "height": 52
    },
    "id": "MzReKVOvhXMi",
    "outputId": "9e13df10-ef3a-4979-9c62-bf58829e4dee"
   },
   "outputs": [
    {
     "data": {
      "text/plain": [
       "\"\\n# menentukan direktori\\ntrain_data_dir = os.path.join(base_dir, 'Train')\\nvalidation_data_dir = os.path.join(base_dir, 'Validation')\\n#test_dir = os.path.join(base_dir, 'Test')\\n\""
      ]
     },
     "execution_count": 4,
     "metadata": {},
     "output_type": "execute_result"
    }
   ],
   "source": [
    "'''\n",
    "# menentukan direktori\n",
    "train_data_dir = os.path.join(base_dir, 'Train')\n",
    "validation_data_dir = os.path.join(base_dir, 'Validation')\n",
    "#test_dir = os.path.join(base_dir, 'Test')\n",
    "'''"
   ]
  },
  {
   "cell_type": "code",
   "execution_count": 3,
   "metadata": {
    "colab": {
     "base_uri": "https://localhost:8080/"
    },
    "id": "muC-sMhupDSc",
    "outputId": "ae74fb23-ff5d-45c9-8b3c-e37faacd81cf"
   },
   "outputs": [
    {
     "name": "stderr",
     "output_type": "stream",
     "text": [
      "'unzip' is not recognized as an internal or external command,\n",
      "operable program or batch file.\n"
     ]
    }
   ],
   "source": [
    "!unzip v_data.zip"
   ]
  },
  {
   "cell_type": "code",
   "execution_count": 4,
   "metadata": {
    "id": "dOVm1pXGoKpk"
   },
   "outputs": [],
   "source": [
    "train_data_dir = 'v_data/train'\n",
    "validation_data_dir = 'v_data/test'\n",
    "nb_train_samples = 400\n",
    "nb_validation_samples = 100\n",
    "epochs = 20\n",
    "batch_size = 16"
   ]
  },
  {
   "cell_type": "code",
   "execution_count": 5,
   "metadata": {
    "id": "RfebrN63W3E6"
   },
   "outputs": [],
   "source": [
    "if K.image_data_format() == 'channels_first':\n",
    "    input_shape = (3, img_width, img_height)\n",
    "else:\n",
    "    input_shape = (img_width, img_height, 3)"
   ]
  },
  {
   "cell_type": "code",
   "execution_count": 6,
   "metadata": {
    "id": "otY-ASuHXDlT"
   },
   "outputs": [],
   "source": [
    "model = Sequential()\n",
    "model.add(Conv2D(32, (2, 2), input_shape=input_shape))\n",
    "model.add(Activation('relu'))\n",
    "model.add(MaxPooling2D(pool_size=(2, 2)))\n",
    "  \n",
    "model.add(Conv2D(32, (2, 2)))\n",
    "model.add(Activation('relu'))\n",
    "model.add(MaxPooling2D(pool_size=(2, 2)))\n",
    "  \n",
    "model.add(Conv2D(64, (2, 2)))\n",
    "model.add(Activation('relu'))\n",
    "model.add(MaxPooling2D(pool_size=(2, 2)))\n",
    "  \n",
    "model.add(Flatten())\n",
    "model.add(Dense(64))\n",
    "model.add(Activation('relu'))\n",
    "model.add(Dropout(0.5))\n",
    "model.add(Dense(1))\n",
    "model.add(Activation('sigmoid'))"
   ]
  },
  {
   "cell_type": "code",
   "execution_count": 7,
   "metadata": {
    "id": "vn-ab1KMg9Nf"
   },
   "outputs": [],
   "source": [
    "model.compile(loss='binary_crossentropy',\n",
    "              optimizer='rmsprop',\n",
    "              metrics=['accuracy'])"
   ]
  },
  {
   "cell_type": "code",
   "execution_count": 8,
   "metadata": {
    "colab": {
     "base_uri": "https://localhost:8080/"
    },
    "id": "PsDLWi4xhBug",
    "outputId": "ee25743c-e81b-4bff-e421-d85d30714226"
   },
   "outputs": [
    {
     "name": "stdout",
     "output_type": "stream",
     "text": [
      "Found 400 images belonging to 2 classes.\n",
      "Found 100 images belonging to 2 classes.\n",
      "Epoch 1/20\n",
      "25/25 [==============================] - 47s 2s/step - loss: 0.7010 - accuracy: 0.6500 - val_loss: 0.3984 - val_accuracy: 0.8750\n",
      "Epoch 2/20\n",
      "25/25 [==============================] - 37s 1s/step - loss: 0.4794 - accuracy: 0.8025 - val_loss: 0.3288 - val_accuracy: 0.8854\n",
      "Epoch 3/20\n",
      "25/25 [==============================] - 36s 1s/step - loss: 0.4268 - accuracy: 0.8500 - val_loss: 0.6559 - val_accuracy: 0.7396\n",
      "Epoch 4/20\n",
      "25/25 [==============================] - 38s 2s/step - loss: 0.3742 - accuracy: 0.8600 - val_loss: 0.3068 - val_accuracy: 0.8750\n",
      "Epoch 5/20\n",
      "25/25 [==============================] - 40s 2s/step - loss: 0.3506 - accuracy: 0.8575 - val_loss: 0.4613 - val_accuracy: 0.7917\n",
      "Epoch 6/20\n",
      "25/25 [==============================] - 38s 2s/step - loss: 0.3212 - accuracy: 0.8575 - val_loss: 0.4751 - val_accuracy: 0.8333\n",
      "Epoch 7/20\n",
      "25/25 [==============================] - 39s 2s/step - loss: 0.2990 - accuracy: 0.8850 - val_loss: 0.3108 - val_accuracy: 0.8854\n",
      "Epoch 8/20\n",
      "25/25 [==============================] - 37s 1s/step - loss: 0.2863 - accuracy: 0.8975 - val_loss: 0.2562 - val_accuracy: 0.8958\n",
      "Epoch 9/20\n",
      "25/25 [==============================] - 36s 1s/step - loss: 0.2946 - accuracy: 0.8875 - val_loss: 0.2746 - val_accuracy: 0.9062\n",
      "Epoch 10/20\n",
      "25/25 [==============================] - 36s 1s/step - loss: 0.2560 - accuracy: 0.9000 - val_loss: 0.2865 - val_accuracy: 0.9062\n",
      "Epoch 11/20\n",
      "25/25 [==============================] - 39s 2s/step - loss: 0.2748 - accuracy: 0.8975 - val_loss: 0.2798 - val_accuracy: 0.9062\n",
      "Epoch 12/20\n",
      "25/25 [==============================] - 35s 1s/step - loss: 0.2107 - accuracy: 0.9225 - val_loss: 0.3033 - val_accuracy: 0.8958\n",
      "Epoch 13/20\n",
      "25/25 [==============================] - 32s 1s/step - loss: 0.1950 - accuracy: 0.9225 - val_loss: 0.3691 - val_accuracy: 0.8646\n",
      "Epoch 14/20\n",
      "25/25 [==============================] - 31s 1s/step - loss: 0.2589 - accuracy: 0.8950 - val_loss: 0.3305 - val_accuracy: 0.8646\n",
      "Epoch 15/20\n",
      "25/25 [==============================] - 31s 1s/step - loss: 0.2116 - accuracy: 0.9200 - val_loss: 0.2561 - val_accuracy: 0.9062\n",
      "Epoch 16/20\n",
      "25/25 [==============================] - 31s 1s/step - loss: 0.1774 - accuracy: 0.9175 - val_loss: 0.2791 - val_accuracy: 0.8854\n",
      "Epoch 17/20\n",
      "25/25 [==============================] - 30s 1s/step - loss: 0.2200 - accuracy: 0.9175 - val_loss: 0.4983 - val_accuracy: 0.8333\n",
      "Epoch 18/20\n",
      "25/25 [==============================] - 31s 1s/step - loss: 0.1684 - accuracy: 0.9275 - val_loss: 0.2570 - val_accuracy: 0.9062\n",
      "Epoch 19/20\n",
      "25/25 [==============================] - 32s 1s/step - loss: 0.1920 - accuracy: 0.9350 - val_loss: 0.2849 - val_accuracy: 0.9062\n",
      "Epoch 20/20\n",
      "25/25 [==============================] - 33s 1s/step - loss: 0.1930 - accuracy: 0.9350 - val_loss: 0.2913 - val_accuracy: 0.8854\n"
     ]
    },
    {
     "data": {
      "text/plain": [
       "<keras.callbacks.History at 0x14117cd85e0>"
      ]
     },
     "execution_count": 8,
     "metadata": {},
     "output_type": "execute_result"
    }
   ],
   "source": [
    "train_datagen = ImageDataGenerator(\n",
    "    rescale=1. / 255,\n",
    "    shear_range=0.2,\n",
    "    zoom_range=0.2,\n",
    "    horizontal_flip=True)\n",
    "  \n",
    "test_datagen = ImageDataGenerator(rescale=1. / 255)\n",
    "  \n",
    "train_generator = train_datagen.flow_from_directory(\n",
    "    train_data_dir,\n",
    "    target_size=(img_width, img_height),\n",
    "    batch_size=batch_size,\n",
    "    class_mode='binary')\n",
    "  \n",
    "validation_generator = test_datagen.flow_from_directory(\n",
    "    validation_data_dir,\n",
    "    target_size=(img_width, img_height),\n",
    "    batch_size=batch_size,\n",
    "    class_mode='binary')\n",
    "\n",
    "model.fit(\n",
    "    train_generator,\n",
    "    steps_per_epoch=nb_train_samples // batch_size,\n",
    "    epochs=epochs,\n",
    "    validation_data=validation_generator,\n",
    "    validation_steps=nb_validation_samples // batch_size)"
   ]
  },
  {
   "cell_type": "code",
   "execution_count": 10,
   "metadata": {},
   "outputs": [
    {
     "name": "stdout",
     "output_type": "stream",
     "text": [
      "7/7 [==============================] - 3s 390ms/step\n",
      "Confusion Matrix\n",
      "[[50  0]\n",
      " [50  0]]\n",
      "Classification Report\n",
      "              precision    recall  f1-score   support\n",
      "\n",
      "         Car       0.50      1.00      0.67        50\n",
      "       Plane       0.00      0.00      0.00        50\n",
      "\n",
      "    accuracy                           0.50       100\n",
      "   macro avg       0.25      0.50      0.33       100\n",
      "weighted avg       0.25      0.50      0.33       100\n",
      "\n"
     ]
    },
    {
     "name": "stderr",
     "output_type": "stream",
     "text": [
      "c:\\Users\\Indah Wardatunizza\\AppData\\Local\\Programs\\Python\\Python310\\lib\\site-packages\\sklearn\\metrics\\_classification.py:1334: UndefinedMetricWarning: Precision and F-score are ill-defined and being set to 0.0 in labels with no predicted samples. Use `zero_division` parameter to control this behavior.\n",
      "  _warn_prf(average, modifier, msg_start, len(result))\n",
      "c:\\Users\\Indah Wardatunizza\\AppData\\Local\\Programs\\Python\\Python310\\lib\\site-packages\\sklearn\\metrics\\_classification.py:1334: UndefinedMetricWarning: Precision and F-score are ill-defined and being set to 0.0 in labels with no predicted samples. Use `zero_division` parameter to control this behavior.\n",
      "  _warn_prf(average, modifier, msg_start, len(result))\n",
      "c:\\Users\\Indah Wardatunizza\\AppData\\Local\\Programs\\Python\\Python310\\lib\\site-packages\\sklearn\\metrics\\_classification.py:1334: UndefinedMetricWarning: Precision and F-score are ill-defined and being set to 0.0 in labels with no predicted samples. Use `zero_division` parameter to control this behavior.\n",
      "  _warn_prf(average, modifier, msg_start, len(result))\n"
     ]
    }
   ],
   "source": [
    "#Confusion Matrix and Classification Report\n",
    "from sklearn.metrics import classification_report\n",
    "from sklearn.metrics import confusion_matrix\n",
    "import numpy as np\n",
    "\n",
    "Y_pred = model.predict(validation_generator)\n",
    "y_pred = np.argmax(Y_pred, axis=1)\n",
    "\n",
    "print('Confusion Matrix')\n",
    "conf_matrix = confusion_matrix(validation_generator.classes, y_pred)\n",
    "print(conf_matrix)\n",
    "\n",
    "print('Classification Report')\n",
    "target_names = ['Car', 'Plane']\n",
    "print(classification_report(validation_generator.classes, y_pred, target_names=target_names))"
   ]
  },
  {
   "cell_type": "code",
   "execution_count": 15,
   "metadata": {},
   "outputs": [
    {
     "data": {
      "image/png": "[encoded data removed]",
      "text/plain": [
       "<Figure size 1000x900 with 2 Axes>"
      ]
     },
     "metadata": {},
     "output_type": "display_data"
    }
   ],
   "source": [
    "import matplotlib.pyplot as plt\n",
    "from sklearn.metrics import classification_report, confusion_matrix, ConfusionMatrixDisplay\n",
    "# Magic function that renders the figure in a jupyter notebook\n",
    "# instead of displaying a figure object\n",
    "%matplotlib inline\n",
    "\n",
    "\n",
    "# Setting default size of the plot\n",
    "# Setting default fontsize used in the plot\n",
    "plt.rcParams['figure.figsize'] = (10.0, 9.0)\n",
    "plt.rcParams['font.size'] = 20\n",
    "\n",
    "\n",
    "# Implementing visualization of Confusion Matrix\n",
    "display_conf_matrix = ConfusionMatrixDisplay(conf_matrix, display_labels=target_names)\n",
    "\n",
    "\n",
    "# Plotting Confusion Matrix\n",
    "# Setting colour map to be used\n",
    "display_conf_matrix.plot(cmap='Blues', xticks_rotation=25)\n",
    "# Other possible options for colour map are:\n",
    "# 'autumn_r', 'Blues', 'cool', 'Greens', 'Greys', 'PuRd', 'copper_r'\n",
    "\n",
    "\n",
    "# Setting fontsize for xticks and yticks\n",
    "plt.xticks(fontsize=15)\n",
    "plt.yticks(fontsize=15)\n",
    "\n",
    "\n",
    "# Giving name to the plot\n",
    "plt.title('Confusion Matrix', fontsize=24)\n",
    "\n",
    "\n",
    "# Saving plot\n",
    "plt.savefig('confusion_matrix.png', transparent=True, dpi=500)\n",
    "\n",
    "\n",
    "# Showing the plot\n",
    "plt.show()"
   ]
  },
  {
   "cell_type": "code",
   "execution_count": 12,
   "metadata": {},
   "outputs": [
    {
     "name": "stdout",
     "output_type": "stream",
     "text": [
      "7/7 [==============================] - 2s 317ms/step - loss: 0.2957 - accuracy: 0.8800\n",
      "Test accuracy: 87.99999952316284 %\n"
     ]
    }
   ],
   "source": [
    "loss, accuracy = model.evaluate(validation_generator)\n",
    "print('Test accuracy:' , accuracy * 100,'%')"
   ]
  },
  {
   "cell_type": "code",
   "execution_count": 9,
   "metadata": {
    "colab": {
     "base_uri": "https://localhost:8080/"
    },
    "id": "-fZX817LhEgj",
    "outputId": "9042c7bf-0da7-47a1-f5b0-9a63551d428e"
   },
   "outputs": [
    {
     "data": {
      "text/plain": [
       "<bound method Model.evaluate of <keras.engine.sequential.Sequential object at 0x0000024153992B30>>"
      ]
     },
     "execution_count": 9,
     "metadata": {},
     "output_type": "execute_result"
    }
   ],
   "source": [
    "model.save_weights('model_saved.h5')\n",
    "model.evaluate"
   ]
  },
  {
   "cell_type": "code",
   "execution_count": 10,
   "metadata": {
    "colab": {
     "base_uri": "https://localhost:8080/"
    },
    "id": "MOV7DRSjhJp-",
    "outputId": "2e1412c4-d6c7-43e4-fa83-31d312749d78"
   },
   "outputs": [
    {
     "name": "stdout",
     "output_type": "stream",
     "text": [
      "1/1 [==============================] - 0s 420ms/step\n",
      "Car\n"
     ]
    }
   ],
   "source": [
    "from keras.models import load_model\n",
    "from tensorflow.keras.utils import load_img\n",
    "from tensorflow.keras.utils import img_to_array\n",
    "from keras.applications.vgg16 import preprocess_input\n",
    "from keras.applications.vgg16 import decode_predictions\n",
    "from keras.applications.vgg16 import VGG16\n",
    "import numpy as np\n",
    "  \n",
    "from keras.models import load_model\n",
    "\n",
    "#model = load_model('model_saved.h5')\n",
    "  \n",
    "image = load_img('Tesla.png', target_size=(224, 224))\n",
    "img = np.array(image)\n",
    "img = img / 255.0\n",
    "img = img.reshape(1,224,224,3)\n",
    "label = model.predict(img)\n",
    "if label[0][0] > 0.5:\n",
    "    print('Plane')\n",
    "else:\n",
    "    print('Car')\n",
    "#print(\"Predicted Class (0 - Cars , 1- Planes): \", label[0][0])"
   ]
  }
 ],
 "metadata": {
  "accelerator": "GPU",
  "colab": {
   "provenance": []
  },
  "hide_input": false,
  "kernelspec": {
   "display_name": "Python 3.10.6 64-bit",
   "language": "python",
   "name": "python3"
  },
  "language_info": {
   "codemirror_mode": {
    "name": "ipython",
    "version": 3
   },
   "file_extension": ".py",
   "mimetype": "text/x-python",
   "name": "python",
   "nbconvert_exporter": "python",
   "pygments_lexer": "ipython3",
   "version": "3.10.6"
  },
  "vscode": {
   "interpreter": {
    "hash": "6812d7f1225b8776bdec3ef6aca36b0d6266d8ead12e06b530a680d23132bac4"
   }
  }
 },
 "nbformat": 4,
 "nbformat_minor": 1
}
