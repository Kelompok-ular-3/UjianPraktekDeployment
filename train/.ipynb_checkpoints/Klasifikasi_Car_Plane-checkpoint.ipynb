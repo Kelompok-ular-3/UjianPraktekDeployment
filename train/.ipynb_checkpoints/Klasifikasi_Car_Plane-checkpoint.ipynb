{
 "cells": [
  {
   "cell_type": "markdown",
   "metadata": {
    "id": "LMUHm6R21PJo"
   },
   "source": [
    "Source: https://machinelearningmastery.com/how-to-develop-a-cnn-from-scratch-for-cifar-10-photo-classification/\n",
    "\n",
    "https://www.geeksforgeeks.org/cifar-10-image-classification-in-tensorflow/?id=discuss\n",
    "\n",
    "https://www.geeksforgeeks.org/python-image-classification-using-keras/"
   ]
  },
  {
   "cell_type": "code",
   "execution_count": 1,
   "metadata": {
    "id": "016R3cnF08IA"
   },
   "outputs": [],
   "source": [
    "# Importing all necessary libraries\n",
    "from keras.preprocessing.image import ImageDataGenerator\n",
    "from keras.models import Sequential\n",
    "from keras.layers import Conv2D, MaxPooling2D\n",
    "from keras.layers import Activation, Dropout, Flatten, Dense\n",
    "from keras import backend as K\n",
    "  \n",
    "img_width, img_height = 224, 224"
   ]
  },
  {
   "cell_type": "code",
   "execution_count": 2,
   "metadata": {
    "colab": {
     "base_uri": "https://localhost:8080/",
     "height": 52
    },
    "id": "cyJI1OdDhPaq",
    "outputId": "8a588052-a4eb-4e3c-9f65-ba00732329af"
   },
   "outputs": [
    {
     "data": {
      "text/plain": [
       "\"\\nfrom google.colab import drive\\nimport os\\n# Menyambungkan google colab dengan google drive\\ndrive.mount('/content/drive/')\\n\""
      ]
     },
     "execution_count": 2,
     "metadata": {},
     "output_type": "execute_result"
    }
   ],
   "source": [
    "'''\n",
    "from google.colab import drive\n",
    "import os\n",
    "# Menyambungkan google colab dengan google drive\n",
    "drive.mount('/content/drive/')\n",
    "'''"
   ]
  },
  {
   "cell_type": "code",
   "execution_count": 3,
   "metadata": {
    "colab": {
     "base_uri": "https://localhost:8080/",
     "height": 35
    },
    "id": "yImr_YLUhSg5",
    "outputId": "0f74f2ce-a804-43f1-dadf-7ec5ede5c0e7"
   },
   "outputs": [
    {
     "data": {
      "text/plain": [
       "\"\\nbase_dir = '/content/drive/My Drive/Chess'\\n!ls '/content/drive/My Drive/Chess'\\n\""
      ]
     },
     "execution_count": 3,
     "metadata": {},
     "output_type": "execute_result"
    }
   ],
   "source": [
    "'''\n",
    "base_dir = '/content/drive/My Drive/Chess'\n",
    "!ls '/content/drive/My Drive/Chess'\n",
    "'''"
   ]
  },
  {
   "cell_type": "code",
   "execution_count": 4,
   "metadata": {
    "colab": {
     "base_uri": "https://localhost:8080/",
     "height": 52
    },
    "id": "MzReKVOvhXMi",
    "outputId": "9e13df10-ef3a-4979-9c62-bf58829e4dee"
   },
   "outputs": [
    {
     "data": {
      "text/plain": [
       "\"\\n# menentukan direktori\\ntrain_data_dir = os.path.join(base_dir, 'Train')\\nvalidation_data_dir = os.path.join(base_dir, 'Validation')\\n#test_dir = os.path.join(base_dir, 'Test')\\n\""
      ]
     },
     "execution_count": 4,
     "metadata": {},
     "output_type": "execute_result"
    }
   ],
   "source": [
    "'''\n",
    "# menentukan direktori\n",
    "train_data_dir = os.path.join(base_dir, 'Train')\n",
    "validation_data_dir = os.path.join(base_dir, 'Validation')\n",
    "#test_dir = os.path.join(base_dir, 'Test')\n",
    "'''"
   ]
  },
  {
   "cell_type": "code",
   "execution_count": 5,
   "metadata": {
    "colab": {
     "base_uri": "https://localhost:8080/"
    },
    "id": "muC-sMhupDSc",
    "outputId": "ae74fb23-ff5d-45c9-8b3c-e37faacd81cf"
   },
   "outputs": [
    {
     "name": "stderr",
     "output_type": "stream",
     "text": [
      "'unzip' is not recognized as an internal or external command,\n",
      "operable program or batch file.\n"
     ]
    }
   ],
   "source": [
    "!unzip v_data.zip"
   ]
  },
  {
   "cell_type": "code",
   "execution_count": 2,
   "metadata": {
    "id": "dOVm1pXGoKpk"
   },
   "outputs": [],
   "source": [
    "train_data_dir = 'v_data/train'\n",
    "validation_data_dir = 'v_data/test'\n",
    "nb_train_samples = 400\n",
    "nb_validation_samples = 100\n",
    "epochs = 20\n",
    "batch_size = 16"
   ]
  },
  {
   "cell_type": "code",
   "execution_count": 3,
   "metadata": {
    "id": "RfebrN63W3E6"
   },
   "outputs": [],
   "source": [
    "if K.image_data_format() == 'channels_first':\n",
    "    input_shape = (3, img_width, img_height)\n",
    "else:\n",
    "    input_shape = (img_width, img_height, 3)"
   ]
  },
  {
   "cell_type": "code",
   "execution_count": 4,
   "metadata": {
    "id": "otY-ASuHXDlT"
   },
   "outputs": [],
   "source": [
    "model = Sequential()\n",
    "model.add(Conv2D(32, (2, 2), input_shape=input_shape))\n",
    "model.add(Activation('relu'))\n",
    "model.add(MaxPooling2D(pool_size=(2, 2)))\n",
    "  \n",
    "model.add(Conv2D(32, (2, 2)))\n",
    "model.add(Activation('relu'))\n",
    "model.add(MaxPooling2D(pool_size=(2, 2)))\n",
    "  \n",
    "model.add(Conv2D(64, (2, 2)))\n",
    "model.add(Activation('relu'))\n",
    "model.add(MaxPooling2D(pool_size=(2, 2)))\n",
    "  \n",
    "model.add(Flatten())\n",
    "model.add(Dense(64))\n",
    "model.add(Activation('relu'))\n",
    "model.add(Dropout(0.5))\n",
    "model.add(Dense(1))\n",
    "model.add(Activation('sigmoid'))"
   ]
  },
  {
   "cell_type": "code",
   "execution_count": 5,
   "metadata": {
    "id": "vn-ab1KMg9Nf"
   },
   "outputs": [],
   "source": [
    "model.compile(loss='binary_crossentropy',\n",
    "              optimizer='rmsprop',\n",
    "              metrics=['accuracy'])"
   ]
  },
  {
   "cell_type": "code",
   "execution_count": 6,
   "metadata": {
    "colab": {
     "base_uri": "https://localhost:8080/"
    },
    "id": "PsDLWi4xhBug",
    "outputId": "ee25743c-e81b-4bff-e421-d85d30714226"
   },
   "outputs": [
    {
     "name": "stdout",
     "output_type": "stream",
     "text": [
      "Found 400 images belonging to 2 classes.\n",
      "Found 100 images belonging to 2 classes.\n",
      "Epoch 1/20\n",
      "25/25 [==============================] - 44s 2s/step - loss: 0.8778 - accuracy: 0.6100 - val_loss: 0.4581 - val_accuracy: 0.8854\n",
      "Epoch 2/20\n",
      "25/25 [==============================] - 30s 1s/step - loss: 0.5456 - accuracy: 0.7275 - val_loss: 0.3663 - val_accuracy: 0.8438\n",
      "Epoch 3/20\n",
      "25/25 [==============================] - 32s 1s/step - loss: 0.5032 - accuracy: 0.7875 - val_loss: 0.3118 - val_accuracy: 0.8958\n",
      "Epoch 4/20\n",
      "25/25 [==============================] - 31s 1s/step - loss: 0.3798 - accuracy: 0.8550 - val_loss: 0.3480 - val_accuracy: 0.8438\n",
      "Epoch 5/20\n",
      "25/25 [==============================] - 35s 1s/step - loss: 0.3891 - accuracy: 0.8200 - val_loss: 0.2570 - val_accuracy: 0.8854\n",
      "Epoch 6/20\n",
      "25/25 [==============================] - 38s 1s/step - loss: 0.3190 - accuracy: 0.8650 - val_loss: 0.3403 - val_accuracy: 0.8542\n",
      "Epoch 7/20\n",
      "25/25 [==============================] - 35s 1s/step - loss: 0.3091 - accuracy: 0.8825 - val_loss: 0.2781 - val_accuracy: 0.8646\n",
      "Epoch 8/20\n",
      "25/25 [==============================] - 34s 1s/step - loss: 0.2727 - accuracy: 0.8975 - val_loss: 0.3382 - val_accuracy: 0.8542\n",
      "Epoch 9/20\n",
      "25/25 [==============================] - 37s 1s/step - loss: 0.2969 - accuracy: 0.8850 - val_loss: 0.2740 - val_accuracy: 0.8646\n",
      "Epoch 10/20\n",
      "25/25 [==============================] - 39s 2s/step - loss: 0.2639 - accuracy: 0.8750 - val_loss: 0.4360 - val_accuracy: 0.8542\n",
      "Epoch 11/20\n",
      "25/25 [==============================] - 36s 1s/step - loss: 0.2636 - accuracy: 0.8925 - val_loss: 0.3407 - val_accuracy: 0.8229\n",
      "Epoch 12/20\n",
      "25/25 [==============================] - 31s 1s/step - loss: 0.2484 - accuracy: 0.9125 - val_loss: 0.2541 - val_accuracy: 0.9271\n",
      "Epoch 13/20\n",
      "25/25 [==============================] - 32s 1s/step - loss: 0.1995 - accuracy: 0.9125 - val_loss: 0.2421 - val_accuracy: 0.9062\n",
      "Epoch 14/20\n",
      "25/25 [==============================] - 32s 1s/step - loss: 0.1840 - accuracy: 0.9150 - val_loss: 0.4402 - val_accuracy: 0.8021\n",
      "Epoch 15/20\n",
      "25/25 [==============================] - 31s 1s/step - loss: 0.2097 - accuracy: 0.9350 - val_loss: 0.2469 - val_accuracy: 0.8958\n",
      "Epoch 16/20\n",
      "25/25 [==============================] - 34s 1s/step - loss: 0.2253 - accuracy: 0.9100 - val_loss: 0.2963 - val_accuracy: 0.9062\n",
      "Epoch 17/20\n",
      "25/25 [==============================] - 33s 1s/step - loss: 0.1963 - accuracy: 0.9250 - val_loss: 0.2565 - val_accuracy: 0.8854\n",
      "Epoch 18/20\n",
      "25/25 [==============================] - 40s 2s/step - loss: 0.1659 - accuracy: 0.9300 - val_loss: 0.2899 - val_accuracy: 0.8750\n",
      "Epoch 19/20\n",
      "25/25 [==============================] - 31s 1s/step - loss: 0.1816 - accuracy: 0.9375 - val_loss: 0.3023 - val_accuracy: 0.8646\n",
      "Epoch 20/20\n",
      "25/25 [==============================] - 33s 1s/step - loss: 0.1465 - accuracy: 0.9425 - val_loss: 0.2827 - val_accuracy: 0.8854\n"
     ]
    },
    {
     "data": {
      "text/plain": [
       "<keras.callbacks.History at 0x22890a3e020>"
      ]
     },
     "execution_count": 6,
     "metadata": {},
     "output_type": "execute_result"
    }
   ],
   "source": [
    "train_datagen = ImageDataGenerator(\n",
    "    rescale=1. / 255,\n",
    "    shear_range=0.2,\n",
    "    zoom_range=0.2,\n",
    "    horizontal_flip=True)\n",
    "  \n",
    "test_datagen = ImageDataGenerator(rescale=1. / 255)\n",
    "  \n",
    "train_generator = train_datagen.flow_from_directory(\n",
    "    train_data_dir,\n",
    "    target_size=(img_width, img_height),\n",
    "    batch_size=batch_size,\n",
    "    class_mode='binary')\n",
    "  \n",
    "validation_generator = test_datagen.flow_from_directory(\n",
    "    validation_data_dir,\n",
    "    target_size=(img_width, img_height),\n",
    "    batch_size=batch_size,\n",
    "    class_mode='binary')\n",
    "\n",
    "model.fit(\n",
    "    train_generator,\n",
    "    steps_per_epoch=nb_train_samples // batch_size,\n",
    "    epochs=epochs,\n",
    "    validation_data=validation_generator,\n",
    "    validation_steps=nb_validation_samples // batch_size)"
   ]
  },
  {
   "cell_type": "code",
   "execution_count": 7,
   "metadata": {
    "colab": {
     "base_uri": "https://localhost:8080/"
    },
    "id": "-fZX817LhEgj",
    "outputId": "9042c7bf-0da7-47a1-f5b0-9a63551d428e"
   },
   "outputs": [
    {
     "data": {
      "text/plain": [
       "<bound method Model.evaluate of <keras.engine.sequential.Sequential object at 0x00000228F9A037F0>>"
      ]
     },
     "execution_count": 7,
     "metadata": {},
     "output_type": "execute_result"
    }
   ],
   "source": [
    "model.save_weights('model_saved.h5')\n",
    "model.evaluate"
   ]
  },
  {
   "cell_type": "code",
   "execution_count": 10,
   "metadata": {
    "colab": {
     "base_uri": "https://localhost:8080/"
    },
    "id": "MOV7DRSjhJp-",
    "outputId": "2e1412c4-d6c7-43e4-fa83-31d312749d78"
   },
   "outputs": [
    {
     "name": "stdout",
     "output_type": "stream",
     "text": [
      "1/1 [==============================] - 1s 513ms/step\n",
      "Car\n"
     ]
    }
   ],
   "source": [
    "from keras.models import load_model\n",
    "from tensorflow.keras.utils import load_img\n",
    "from tensorflow.keras.utils import img_to_array\n",
    "from keras.applications.vgg16 import preprocess_input\n",
    "from keras.applications.vgg16 import decode_predictions\n",
    "from keras.applications.vgg16 import VGG16\n",
    "import numpy as np\n",
    "  \n",
    "from keras.models import load_model\n",
    "\n",
    "#model = load_model('model_saved.h5')\n",
    "  \n",
    "image = load_img('Tesla.png', target_size=(224, 224))\n",
    "img = np.array(image)\n",
    "img = img / 255.0\n",
    "img = img.reshape(1,224,224,3)\n",
    "label = model.predict(img)\n",
    "if label[0][0] > 0.5:\n",
    "    print('Plane')\n",
    "else:\n",
    "    print('Car')\n",
    "#print(\"Predicted Class (0 - Cars , 1- Planes): \", label[0][0])"
   ]
  }
 ],
 "metadata": {
  "accelerator": "GPU",
  "colab": {
   "provenance": []
  },
  "hide_input": false,
  "kernelspec": {
   "display_name": "Python 3.10.6 64-bit",
   "language": "python",
   "name": "python3"
  },
  "language_info": {
   "codemirror_mode": {
    "name": "ipython",
    "version": 3
   },
   "file_extension": ".py",
   "mimetype": "text/x-python",
   "name": "python",
   "nbconvert_exporter": "python",
   "pygments_lexer": "ipython3",
   "version": "3.10.6"
  },
  "vscode": {
   "interpreter": {
    "hash": "6812d7f1225b8776bdec3ef6aca36b0d6266d8ead12e06b530a680d23132bac4"
   }
  }
 },
 "nbformat": 4,
 "nbformat_minor": 1
}
